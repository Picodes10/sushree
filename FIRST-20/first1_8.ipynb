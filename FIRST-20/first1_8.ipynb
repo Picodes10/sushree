{
 "cells": [
  {
   "cell_type": "markdown",
   "id": "cf5c9b9b",
   "metadata": {},
   "source": [
    "1.\tAdd two numbers\n",
    "2.\tMaximum of two numbers\n",
    "3.\tFactorial of a number\n",
    "4.\tFind simple interest\n",
    "5.\tFind compound interest\n",
    "6.\tCheck Armstrong Number\n",
    "7.\tFind area of a circle\n"
   ]
  },
  {
   "cell_type": "code",
   "execution_count": 12,
   "id": "40c8f1f5",
   "metadata": {},
   "outputs": [
    {
     "name": "stdout",
     "output_type": "stream",
     "text": [
      "28\n"
     ]
    }
   ],
   "source": [
    "# 1\n",
    "a = int(input())\n",
    "b = int(input())\n",
    "print(a + b)"
   ]
  },
  {
   "cell_type": "code",
   "execution_count": 13,
   "id": "0f799a6a",
   "metadata": {},
   "outputs": [
    {
     "name": "stdout",
     "output_type": "stream",
     "text": [
      "56\n"
     ]
    }
   ],
   "source": [
    "# 2\n",
    "a = int(input())\n",
    "b = int(input())\n",
    "print(max(a, b))\n"
   ]
  },
  {
   "cell_type": "code",
   "execution_count": 14,
   "id": "1980a8aa",
   "metadata": {},
   "outputs": [
    {
     "name": "stdout",
     "output_type": "stream",
     "text": [
      "8683317618811886495518194401280000000\n"
     ]
    }
   ],
   "source": [
    "# 3\n",
    "a = int(input())\n",
    "def fact(n):\n",
    "    if n == 0:\n",
    "        return 1\n",
    "    return n * fact(n - 1)\n",
    "print(fact(a))"
   ]
  },
  {
   "cell_type": "code",
   "execution_count": 15,
   "id": "0a17f17b",
   "metadata": {},
   "outputs": [
    {
     "name": "stdout",
     "output_type": "stream",
     "text": [
      "2532.0\n"
     ]
    }
   ],
   "source": [
    "# 4\n",
    "a = int(input())\n",
    "r = float(input())\n",
    "t = float(input())\n",
    "si = (a * r * t) / 100\n",
    "print(si)"
   ]
  },
  {
   "cell_type": "code",
   "execution_count": 16,
   "id": "b7366233",
   "metadata": {},
   "outputs": [
    {
     "name": "stdout",
     "output_type": "stream",
     "text": [
      "294.6183699999999\n"
     ]
    }
   ],
   "source": [
    "# 5\n",
    "a = int(input())\n",
    "b = int(input())\n",
    "c = int(input())    \n",
    "ci = a * ((1 + b / 100) ** c) - a\n",
    "print(ci)"
   ]
  },
  {
   "cell_type": "code",
   "execution_count": 17,
   "id": "b635c98a",
   "metadata": {},
   "outputs": [
    {
     "name": "stdout",
     "output_type": "stream",
     "text": [
      "Not an Armstrong number\n"
     ]
    }
   ],
   "source": [
    "# 6\n",
    "num = int(input())\n",
    "\n",
    "sum_of_powers = sum(int(digit) ** len(str(num)) for digit in str(num))\n",
    "if num == sum_of_powers:\n",
    "    print(\"Armstrong number\")\n",
    "else:\n",
    "    print(\"Not an Armstrong number\")"
   ]
  },
  {
   "cell_type": "code",
   "execution_count": 18,
   "id": "b5a02260",
   "metadata": {},
   "outputs": [
    {
     "name": "stdout",
     "output_type": "stream",
     "text": [
      "1661.06\n"
     ]
    }
   ],
   "source": [
    "# 7\n",
    "r = float(input())\n",
    "pie = 3.14\n",
    "print(pie * r * r)"
   ]
  },
  {
   "cell_type": "code",
   "execution_count": null,
   "id": "839c47c4",
   "metadata": {},
   "outputs": [],
   "source": []
  }
 ],
 "metadata": {
  "kernelspec": {
   "display_name": "base",
   "language": "python",
   "name": "python3"
  },
  "language_info": {
   "codemirror_mode": {
    "name": "ipython",
    "version": 3
   },
   "file_extension": ".py",
   "mimetype": "text/x-python",
   "name": "python",
   "nbconvert_exporter": "python",
   "pygments_lexer": "ipython3",
   "version": "3.12.3"
  }
 },
 "nbformat": 4,
 "nbformat_minor": 5
}
