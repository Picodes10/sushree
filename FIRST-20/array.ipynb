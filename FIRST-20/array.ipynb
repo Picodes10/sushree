{
 "cells": [
  {
   "cell_type": "markdown",
   "id": "768d457e",
   "metadata": {},
   "source": [
    "8.\tFind sum of array\n",
    "9.\tFind largest element in an array\n",
    "10.\tProgram for array rotation\n",
    "11.\tReversal algorithm for array rotation\n",
    "12.\tSplit the array and add the first part to the end\n",
    "13.\tFind reminder of array multiplication divided by n\n",
    "14.\tCheck if given array is Monotonic\n",
    "15.\tFind the maximum sum of a subarray of size k\n"
   ]
  },
  {
   "cell_type": "code",
   "execution_count": 1,
   "id": "0a8a25db",
   "metadata": {},
   "outputs": [
    {
     "name": "stdout",
     "output_type": "stream",
     "text": [
      "45\n"
     ]
    }
   ],
   "source": [
    "# 8\n",
    "arr = list(map(int, input(\"Enter array elements separated by space: \").split()))\n",
    "\n",
    "# arr = [1, 2, 3, 4, 5, 6, 7, 8, 9, 10]\n",
    "print(sum(arr))"
   ]
  },
  {
   "cell_type": "code",
   "execution_count": 2,
   "id": "c8225324",
   "metadata": {},
   "outputs": [
    {
     "name": "stdout",
     "output_type": "stream",
     "text": [
      "Largest element is: 4\n"
     ]
    }
   ],
   "source": [
    "# 9\n",
    "def largest(arr, n):\n",
    "    arr.sort()\n",
    "    return arr[-1]\n",
    "\n",
    "arr = list(map(int, input(\"Enter array elements separated by space: \").split()))\n",
    "n = len(arr)\n",
    "print(\"Largest element is:\", largest(arr, n))    "
   ]
  },
  {
   "cell_type": "code",
   "execution_count": 4,
   "id": "ec696166",
   "metadata": {},
   "outputs": [
    {
     "name": "stdout",
     "output_type": "stream",
     "text": [
      "Rotated array: [65, 77, 23, 3, 45]\n"
     ]
    }
   ],
   "source": [
    "# 10 rotate the array\n",
    "def rotate_list(arr, d, n):\n",
    "    arr[:] = arr[d:n] + arr[0:d]\n",
    "    return arr\n",
    "\n",
    "arr = list(map(int, input(\"Enter array elements separated by space: \").split()))\n",
    "d = int(input(\"Enter number of positions to rotate: \"))\n",
    "print(\"Rotated array:\", rotate_list(arr, d, len(arr)))\n"
   ]
  },
  {
   "cell_type": "code",
   "execution_count": 5,
   "id": "1412d3d2",
   "metadata": {},
   "outputs": [
    {
     "name": "stdout",
     "output_type": "stream",
     "text": [
      "Reversed array: [5, 6, 7, 1, 2, 3, 4]\n"
     ]
    }
   ],
   "source": [
    "# 11. Program for Reversal Algorithm of Array Rotation\n",
    "def reverseArray(arr, d):\n",
    "    return arr[d:] + arr[:d]\n",
    "\n",
    "arr = list(map(int, input(\"Enter array elements separated by space: \").split()))\n",
    "d = int(input(\"Enter number of positions to rotate: \"))\n",
    "print(\"Reversed array:\", reverseArray(arr, d))"
   ]
  },
  {
   "cell_type": "code",
   "execution_count": 6,
   "id": "cd1d91fc",
   "metadata": {},
   "outputs": [
    {
     "name": "stdout",
     "output_type": "stream",
     "text": [
      "Array after split and add: [20, 3, 22, 32, 45, 98]\n",
      "22324598203"
     ]
    }
   ],
   "source": [
    "# 12. Split the array and add the first part to the end\n",
    "def splitArr(arr, n, k):\n",
    "    b = arr[:k]\n",
    "    return (arr[k::] + b[::])\n",
    "\n",
    "arr = list(map(int, input(\"\").split()))\n",
    "n = len(arr)\n",
    "k = int(input(\"Enter the split index: \"))\n",
    "print(\"Array after split and add:\", splitArr(arr, n, k))\n",
    "for i in range(0, n):\n",
    "    print(arr[i], end='')"
   ]
  },
  {
   "cell_type": "code",
   "execution_count": 7,
   "id": "a9419187",
   "metadata": {},
   "outputs": [
    {
     "name": "stdout",
     "output_type": "stream",
     "text": [
      "Remainder when product of array elements is divided by 3 is: 1\n"
     ]
    }
   ],
   "source": [
    "# 13\n",
    "def findRemainer(arr, len, n):\n",
    "    product = 1\n",
    "    for i in range(len):\n",
    "        product *= arr[i]\n",
    "    return product % n\n",
    "\n",
    "arr = list(map(int, input(\"Enter array elements separated by space: \").split()))\n",
    "n = int(input(\"Enter the divisor: \"))\n",
    "len = len(arr)\n",
    "print(\"Remainder when product of array elements is divided by\", n, \"is:\", findRemainer(arr, len, n))"
   ]
  },
  {
   "cell_type": "code",
   "execution_count": 8,
   "id": "731211ce",
   "metadata": {},
   "outputs": [
    {
     "name": "stdout",
     "output_type": "stream",
     "text": [
      "True\n",
      "False\n",
      "True\n"
     ]
    }
   ],
   "source": [
    "# 14\n",
    "def is_monotonic(arr):\n",
    "    unique_elements = set(arr)\n",
    "    increasing = sorted(arr) == arr or sorted(arr, reverse=True) == arr\n",
    "    return increasing\n",
    "\n",
    "# Driver Code\n",
    "arr1 = [6, 5, 4, 4]\n",
    "arr2 = [5, 15, 20, 10]\n",
    "arr3 = [2, 2, 2, 3]\n",
    "\n",
    "print(is_monotonic(arr1))  \n",
    "print(is_monotonic(arr2))  \n",
    "print(is_monotonic(arr3))"
   ]
  },
  {
   "cell_type": "code",
   "execution_count": 9,
   "id": "5a5ae94d",
   "metadata": {},
   "outputs": [
    {
     "ename": "TypeError",
     "evalue": "'int' object is not callable",
     "output_type": "error",
     "traceback": [
      "\u001b[1;31m---------------------------------------------------------------------------\u001b[0m",
      "\u001b[1;31mTypeError\u001b[0m                                 Traceback (most recent call last)",
      "Cell \u001b[1;32mIn[9], line 13\u001b[0m\n\u001b[0;32m     11\u001b[0m arr \u001b[38;5;241m=\u001b[39m [\u001b[38;5;241m1\u001b[39m, \u001b[38;5;241m4\u001b[39m, \u001b[38;5;241m2\u001b[39m, \u001b[38;5;241m10\u001b[39m, \u001b[38;5;241m2\u001b[39m, \u001b[38;5;241m3\u001b[39m, \u001b[38;5;241m1\u001b[39m, \u001b[38;5;241m0\u001b[39m, \u001b[38;5;241m20\u001b[39m]\n\u001b[0;32m     12\u001b[0m k \u001b[38;5;241m=\u001b[39m \u001b[38;5;241m4\u001b[39m\n\u001b[1;32m---> 13\u001b[0m n \u001b[38;5;241m=\u001b[39m \u001b[38;5;28;43mlen\u001b[39;49m\u001b[43m(\u001b[49m\u001b[43marr\u001b[49m\u001b[43m)\u001b[49m\n\u001b[0;32m     14\u001b[0m \u001b[38;5;28mprint\u001b[39m(max_sum_of_subarray(arr, n, k))\n",
      "\u001b[1;31mTypeError\u001b[0m: 'int' object is not callable"
     ]
    }
   ],
   "source": [
    "#  maximum sum of sub-array size k\n",
    "def max_sum_of_subarray(arr, n, k):\n",
    "    window_sum = 0\n",
    "    for i in range(k):\n",
    "        window_sum += arr[i]\n",
    "    max_sum = window_sum\n",
    "    for i in range(k, n):\n",
    "        window_sum = window_sum + arr[i] - arr[i-k]\n",
    "        max_sum = max(max_sum, window_sum)\n",
    "    return max_sum\n",
    "arr = [1, 4, 2, 10, 2, 3, 1, 0, 20]\n",
    "k = 4\n",
    "n = len(arr)\n",
    "print(max_sum_of_subarray(arr, n, k))"
   ]
  },
  {
   "cell_type": "code",
   "execution_count": null,
   "id": "03735c6c",
   "metadata": {},
   "outputs": [],
   "source": []
  }
 ],
 "metadata": {
  "kernelspec": {
   "display_name": "base",
   "language": "python",
   "name": "python3"
  },
  "language_info": {
   "codemirror_mode": {
    "name": "ipython",
    "version": 3
   },
   "file_extension": ".py",
   "mimetype": "text/x-python",
   "name": "python",
   "nbconvert_exporter": "python",
   "pygments_lexer": "ipython3",
   "version": "3.12.3"
  }
 },
 "nbformat": 4,
 "nbformat_minor": 5
}
